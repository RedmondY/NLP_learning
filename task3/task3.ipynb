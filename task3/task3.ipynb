{
 "cells": [
  {
   "cell_type": "markdown",
   "metadata": {},
   "source": [
    "## Task 3"
   ]
  },
  {
   "cell_type": "markdown",
   "metadata": {},
   "source": [
    "###  TD-idf 原理"
   ]
  },
  {
   "cell_type": "markdown",
   "metadata": {},
   "source": [
    "TF-IDF(Term Frequency-Inverse Document Frequency, 词频-逆文件频率). \n",
    "\n",
    "这是一种用于资讯检索与资讯探勘的常用加权技术。TF-IDF是一种统计方法，用以评估一字词对于一个文件集或一个语料库中的其中一份文件的重要程度。字词的重要性随着它在文件中出现的次数成正比增加，但同时会随着它在语料库中出现的频率成反比下降。"
   ]
  },
  {
   "cell_type": "code",
   "execution_count": 7,
   "metadata": {},
   "outputs": [
    {
     "name": "stdout",
     "output_type": "stream",
     "text": [
      "[[0.         0.44943642 0.6316672  0.         0.6316672 ]\n",
      " [0.6316672  0.44943642 0.         0.6316672  0.        ]]\n",
      "['good', 'is', 'it', 'nlp', 'test']\n",
      "[[0.70710678 0.         0.         0.         0.70710678]\n",
      " [0.         0.         0.         0.         0.        ]]\n",
      "['good', 'is', 'it', 'nlp', 'test']\n"
     ]
    }
   ],
   "source": [
    "from sklearn.feature_extraction.text import TfidfVectorizer\n",
    "corpus = [\n",
    "    'It is a test.',\n",
    "    'NLP is good.'\n",
    "]\n",
    "\n",
    "vector = TfidfVectorizer()\n",
    "X = vector.fit_transform(corpus)\n",
    "print(X.toarray())\n",
    "print(vector.get_feature_names())\n",
    "test = [\n",
    "    'a good test.',\n",
    "    'thid ad ac.'\n",
    "]\n",
    "print(vector.transform(test).toarray())\n",
    "print(vector.get_feature_names())\n"
   ]
  },
  {
   "cell_type": "markdown",
   "metadata": {},
   "source": [
    "### 文本矩阵化"
   ]
  },
  {
   "cell_type": "markdown",
   "metadata": {},
   "source": [
    "以TF-IDF特征值为权重，使TfidfTransformer，只需要将上边得到的TF-IDF结果转换为矩阵即可；"
   ]
  },
  {
   "cell_type": "code",
   "execution_count": 8,
   "metadata": {},
   "outputs": [
    {
     "name": "stdout",
     "output_type": "stream",
     "text": [
      "[[0.70710678 0.         0.         0.         0.70710678]\n",
      " [0.         0.         0.         0.         0.        ]]\n"
     ]
    }
   ],
   "source": [
    "print(vector.transform(test).toarray())"
   ]
  },
  {
   "cell_type": "markdown",
   "metadata": {},
   "source": [
    "### 互信息的原理"
   ]
  },
  {
   "attachments": {
    "image.png": {
     "image/png": "[encoded data removed]"
    }
   },
   "cell_type": "markdown",
   "metadata": {},
   "source": [
    "互信息（Mutual Information）\n",
    "正式地，两个离散随机变量 X 和 Y 的互信息可以定义为：\n",
    "![image.png](attachment:image.png)\n",
    "\n",
    "其衡量的是两个随机变量之间的相关性，即一个随机变量中包含的关于另一个随机变量的信息量。所谓的随机变量，即随机试验结果的量的表示，可以简单理解为按照一个概率分布进行取值的变量，比如随机抽查的一个人的身高就是一个随机变量。\n"
   ]
  },
  {
   "cell_type": "markdown",
   "metadata": {},
   "source": [
    "### 利用互信息进行特征筛选"
   ]
  },
  {
   "cell_type": "markdown",
   "metadata": {},
   "source": [
    "信息量：事件发生概率越高，含有的信息量就越低。\n",
    "熵：事件发生的不确定性越大，熵越大。\n",
    "联合熵：联合熵可以表示为两个事件的熵的并集。\n",
    "条件熵：条件熵实际上是联合熵与熵的差集，也可表示为熵与互信息的差集。\n",
    "互信息：互信息是用来表示变量间相互以来的程度，常用在特征选择和特征关联性等方面。\n",
    "相对熵：相对熵用来描述两个分布之间的差异。\n",
    "交叉熵：交叉熵常用在深度学习中目标函数优化。\n"
   ]
  },
  {
   "cell_type": "code",
   "execution_count": 12,
   "metadata": {},
   "outputs": [
    {
     "name": "stdout",
     "output_type": "stream",
     "text": [
      "0.6078468394475832\n",
      "0.35810955263431954\n",
      "1.002510220562348\n",
      "0.9952885384500019\n"
     ]
    }
   ],
   "source": [
    "import pandas as pd\n",
    "from sklearn.datasets import load_iris\n",
    "from sklearn import metrics as mr\n",
    " \n",
    "iris = load_iris()\n",
    "x = iris.data\n",
    "y = iris.target\n",
    " \n",
    "x0 = x[:, 0]\n",
    "x1 = x[:, 1]\n",
    "x2 = x[:, 2]\n",
    "x3 = x[:, 3]\n",
    " \n",
    "# 计算x和y的互信息\n",
    "print(mr.mutual_info_score(x0, y))\n",
    "print(mr.mutual_info_score(x1, y))\n",
    "print(mr.mutual_info_score(x2, y))\n",
    "print(mr.mutual_info_score(x3, y))"
   ]
  },
  {
   "cell_type": "code",
   "execution_count": null,
   "metadata": {},
   "outputs": [],
   "source": []
  },
  {
   "cell_type": "markdown",
   "metadata": {},
   "source": [
    "参考链接：\n",
    "https://blog.csdn.net/zh11403070219/article/details/88284390\n",
    "https://blog.csdn.net/yyy430/article/details/88249709#%E4%BA%92%E4%BF%A1%E6%81%AF%E7%9A%84%E5%8E%9F%E7%90%86"
   ]
  }
 ],
 "metadata": {
  "kernelspec": {
   "display_name": "Python [conda env:TensorFlow]",
   "language": "python",
   "name": "conda-env-TensorFlow-py"
  },
  "language_info": {
   "codemirror_mode": {
    "name": "ipython",
    "version": 3
   },
   "file_extension": ".py",
   "mimetype": "text/x-python",
   "name": "python",
   "nbconvert_exporter": "python",
   "pygments_lexer": "ipython3",
   "version": "3.6.8"
  }
 },
 "nbformat": 4,
 "nbformat_minor": 2
}
