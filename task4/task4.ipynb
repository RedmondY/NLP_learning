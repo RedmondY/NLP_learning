{
 "cells": [
  {
   "cell_type": "markdown",
   "metadata": {},
   "source": [
    "## 任务4-自然语言处理"
   ]
  },
  {
   "cell_type": "markdown",
   "metadata": {},
   "source": [
    "#### 朴素贝叶斯\n",
    "\n",
    "原理：基于朴素贝叶斯公式，比较出后验概率的最大值来进行分类，后验概率的计算是由先验概率与类条件概率的乘积得出，先验概率和类条件概率要通过训练数据集得出，即为朴素贝叶斯分类模型，将其保存为中间结果，测试文档进行分类时调用这个中间结果得出后验概率。"
   ]
  },
  {
   "cell_type": "code",
   "execution_count": null,
   "metadata": {},
   "outputs": [],
   "source": [
    "pip list"
   ]
  },
  {
   "cell_type": "code",
   "execution_count": null,
   "metadata": {},
   "outputs": [],
   "source": [
    "from numpy import *\n",
    "import re\n",
    "import random\n",
    "\n",
    "def loadDataSet(): #创建样例数据\n",
    "    postingList = [['my', 'dog', 'has', 'flea', 'problems', 'help', 'please'],\n",
    "                   ['maybe', 'not', 'take', 'him', 'to', 'dog', 'park', 'stupid'],\n",
    "                   ['my', 'dalmation', 'is', 'so', 'cute', 'I', 'love', 'him'],\n",
    "                   ['stop', 'posting', 'stupid', 'worthless', 'garbage'],\n",
    "                   ['mr', 'licks', 'ate', 'my', 'steak', 'how', 'to', 'stop', 'him'],\n",
    "                   ['quit', 'buying', 'worthless', 'dog', 'food', 'stupid']]\n",
    "    classVec = [0, 1, 0, 1, 0, 1]  #1代表脏话\n",
    "    return postingList, classVec\n",
    "\n",
    "def createVocabList(dataSet):  #创建词库 这里就是直接把所有词去重后，当作词库\n",
    "    vocabSet = set([])\n",
    "    for document in dataSet:\n",
    "        vocabSet = vocabSet | set(document)\n",
    "    return list(vocabSet)\n",
    "\n",
    "def setOfWords2Vec(vocabList, inputSet):  #文本词向量。词库中每个词当作一个特征，文本中就该词，该词特征就是1，没有就是0\n",
    "    returnVec = [0] * len(vocabList)\n",
    "    for word in inputSet:\n",
    "        if word in vocabList:\n",
    "            returnVec[vocabList.index(word)] = 1\n",
    "        else:\n",
    "            print(\"the word: %s is not in my Vocabulary!\" % word)\n",
    "    return returnVec\n",
    "\n",
    "\n",
    "def trainNB0(trainMatrix, trainCategory):\n",
    "    numTrainDocs = len(trainMatrix)\n",
    "    numWords = len(trainMatrix[0])\n",
    "    pAbusive = sum(trainCategory) / float(numTrainDocs)\n",
    "    p0Num = ones(numWords) #防止某个类别计算出的概率为0，导致最后相乘都为0，所以初始词都赋值1，分母赋值为2.\n",
    "    p1Num = ones(numWords)\n",
    "    p0Denom = 2\n",
    "    p1Denom = 2\n",
    "    for i in range(numTrainDocs):\n",
    "        if trainCategory[i] == 1:\n",
    "            p1Num += trainMatrix[i]\n",
    "            p1Denom += sum(trainMatrix[i])\n",
    "        else:\n",
    "            p0Num += trainMatrix[i]\n",
    "            p0Denom += sum(trainMatrix[i])\n",
    "    p1Vect = log(p1Num / p1Denom)  #这里使用了Log函数，方便计算，因为最后是比较大小，所有对结果没有影响。\n",
    "    p0Vect = log(p0Num / p0Denom)\n",
    "    return p0Vect, p1Vect, pAbusive\n",
    "\n",
    "def classifyNB(vec2Classify,p0Vec,p1Vec,pClass1): #比较概率大小进行判断，\n",
    "    p1 = sum(vec2Classify*p1Vec)+log(pClass1)\n",
    "    p0 = sum(vec2Classify*p0Vec)+log(1-pClass1)\n",
    "    if p1>p0:\n",
    "        return 1\n",
    "    else:\n",
    "        return 0\n",
    "\n",
    "def testingNB():\n",
    "    listOPosts,listClasses = loadDataSet()\n",
    "    myVocabList = createVocabList(listOPosts)\n",
    "    trainMat=[]\n",
    "    for postinDoc in listOPosts:\n",
    "        trainMat.append(setOfWords2Vec(myVocabList, postinDoc))\n",
    "    p0V,p1V,pAb = trainNB0(array(trainMat),array(listClasses))\n",
    "    testEntry = ['love', 'my', 'dalmation'] # 测试数据\n",
    "    thisDoc = array(setOfWords2Vec(myVocabList, testEntry))\n",
    "    print(testEntry,'classified as: ',classifyNB(thisDoc,p0V,p1V,pAb))\n",
    "    testEntry = ['stupid', 'garbage'] # 测试数据\n",
    "    thisDoc = array(setOfWords2Vec(myVocabList, testEntry))\n",
    "    print(testEntry,'classified as: ',classifyNB(thisDoc,p0V,p1V,pAb))\n",
    "\n",
    "if __name__=='__main__':\n",
    "    testingNB()"
   ]
  },
  {
   "cell_type": "markdown",
   "metadata": {},
   "source": [
    "#### SVM模型"
   ]
  },
  {
   "cell_type": "markdown",
   "metadata": {},
   "source": [
    "SVM（support vector machine）是一种二分类模型，它的基本模型是定义在特征空间上的间隔最大的线性分类器，利用间隔最大化求最优分离超平面"
   ]
  },
  {
   "cell_type": "markdown",
   "metadata": {},
   "source": [
    "SVM模型有3种：\n",
    "\n",
    "（1）线性可分支持向量机：适用于训练数据线性可分；\n",
    "\n",
    "（2）线性支持向量机：适用于训练数据近似线性可分，也就是存在一些特异点，将这些特异点去除后的样本线性可分；（现实中的数据经常是线性不可分的）\n",
    "\n",
    "（3）非线性支持向量机：适用于训练数据线性不可分，可采用相应的核技巧；\n"
   ]
  },
  {
   "cell_type": "code",
   "execution_count": null,
   "metadata": {},
   "outputs": [],
   "source": [
    "import csv\n",
    "import jieba\n",
    "jieba.load_userdict('wordDict.txt')\n",
    "import numpy as np\n",
    "from sklearn.feature_extraction.text import CountVectorizer\n",
    "from sklearn.feature_extraction.text import TfidfTransformer\n",
    "from sklearn.svm import SVC\n",
    "from sklearn.pipeline import Pipeline\n",
    "from sklearn import metrics\n",
    "from sklearn.grid_search import GridSearchCV\n",
    "\n",
    "\n",
    "# 读取训练集\n",
    "def readtrain():\n",
    "    with open('Train.csv', 'rb') as csvfile:\n",
    "        reader = csv.reader(csvfile)\n",
    "        column1 = [row for row in reader]\n",
    "    content_train = [i[1] for i in column1[1:]] #第一列为文本内容，并去除列名\n",
    "    opinion_train = [i[2] for i in column1[1:]] #第二列为类别，并去除列名\n",
    "    print '训练集有 %s 条句子' % len(content_train)\n",
    "    train = [content_train, opinion_train]\n",
    "    return train\n",
    "\n",
    "\n",
    "# 将utf8的列表转换成unicode\n",
    "def changeListCode(b):\n",
    "    a = []\n",
    "    for i in b:\n",
    "        a.append(i.decode('utf8'))\n",
    "    return a\n",
    "\n",
    "\n",
    "# 对列表进行分词并用空格连接\n",
    "def segmentWord(cont):\n",
    "    c = []\n",
    "    for i in cont:\n",
    "        a = list(jieba.cut(i))\n",
    "        b = \" \".join(a)\n",
    "        c.append(b)\n",
    "    return c\n",
    "\n",
    "\n",
    "# corpus = [\"我 来到 北京 清华大学\", \"他 来到 了 网易 杭研 大厦\", \"小明 硕士 毕业 与 中国 科学院\"]\n",
    "train = readtrain()\n",
    "content = segmentWord(train[0])\n",
    "opinion = train[1]\n",
    "\n",
    "\n",
    "# 划分\n",
    "train_content = content[:7000]\n",
    "test_content = content[7000:]\n",
    "train_opinion = opinion[:7000]\n",
    "test_opinion = opinion[7000:]\n",
    "\n",
    "\n",
    "# 计算权重\n",
    "vectorizer = CountVectorizer()\n",
    "tfidftransformer = TfidfTransformer()\n",
    "tfidf = tfidftransformer.fit_transform(vectorizer.fit_transform(train_content))  # 先转换成词频矩阵，再计算TFIDF值\n",
    "print tfidf.shape\n",
    "\n",
    "\n",
    "# 单独预测\n",
    "'''\n",
    "word = vectorizer.get_feature_names()\n",
    "weight = tfidf.toarray()\n",
    "# 分类器\n",
    "clf = MultinomialNB().fit(tfidf, opinion)\n",
    "docs = [\"在 标准 状态 下 途观 的 行李厢 容积 仅 为 400 L\", \"新 买 的 锋驭 怎么 没有 随 车 灭火器\"]\n",
    "new_tfidf = tfidftransformer.transform(vectorizer.transform(docs))\n",
    "predicted = clf.predict(new_tfidf)\n",
    "print predicted\n",
    "'''\n",
    "\n",
    "\n",
    "# 训练和预测一体\n",
    "text_clf = Pipeline([('vect', CountVectorizer()), ('tfidf', TfidfTransformer()), ('clf', SVC(C=0.99, kernel = 'linear'))])\n",
    "text_clf = text_clf.fit(train_content, train_opinion)\n",
    "predicted = text_clf.predict(test_content)\n",
    "print 'SVC',np.mean(predicted == test_opinion)\n",
    "print set(predicted)"
   ]
  },
  {
   "cell_type": "markdown",
   "metadata": {},
   "source": [
    "#### LDA主题模型"
   ]
  },
  {
   "cell_type": "markdown",
   "metadata": {},
   "source": []
  },
  {
   "cell_type": "markdown",
   "metadata": {},
   "source": []
  },
  {
   "cell_type": "markdown",
   "metadata": {},
   "source": [
    "#### LDA\n",
    "\n",
    "LDA 即潜在狄利克雷分布，是 pLSA 的贝叶斯版本。它使用狄利克雷先验来处理文档-主题和单词-主题分布，从而有助于更好地泛化。"
   ]
  },
  {
   "cell_type": "code",
   "execution_count": null,
   "metadata": {},
   "outputs": [],
   "source": [
    "from gensim.corpora.Dictionary import load_from_text, doc2bow\n",
    "from gensim.corpora import MmCorpus\n",
    "from gensim.models.ldamodel import LdaModel\n",
    "document = \"This is some document...\"\n",
    "# load id->word mapping (the dictionary)\n",
    "id2word = load_from_text('wiki_en_wordids.txt')\n",
    "# load corpus iterator\n",
    "mm = MmCorpus('wiki_en_tfidf.mm')\n",
    "# extract 100 LDA topics, updating once every 10,000\n",
    "lda = LdaModel(corpus=mm, id2word=id2word, num_topics=100, update_every=1, chunksize=10000, passes=1)\n",
    "# use LDA model: transform new doc to bag-of-words, then apply lda\n",
    "doc_bow = doc2bow(document.split())\n",
    "doc_lda = lda[doc_bow]"
   ]
  }
 ],
 "metadata": {
  "kernelspec": {
   "display_name": "Python 3",
   "language": "python",
   "name": "python3"
  }
 },
 "nbformat": 4,
 "nbformat_minor": 2
}
